{
 "cells": [
  {
   "cell_type": "code",
   "execution_count": null,
   "metadata": {
    "collapsed": true
   },
   "outputs": [],
   "source": [
    "from user_config import OUTPUT_DIR\n",
    "\n",
    "import spiking_visnet.plot as plot\n",
    "\n",
    "import numpy as np\n",
    "from bokeh import palettes\n",
    "from bokeh.io import output_notebook, push_notebook, show \n",
    "from bokeh.plotting import figure\n",
    "\n",
    "from spiking_visnet.save import load_as_numpy\n",
    "\n",
    "from os.path import join\n",
    "\n",
    "SEP = '_'"
   ]
  },
  {
   "cell_type": "code",
   "execution_count": null,
   "metadata": {
    "collapsed": true
   },
   "outputs": [],
   "source": [
    "# sim_savedir = 'test_savedir'\n",
    "sim_savedir = join(OUTPUT_DIR, 'default')"
   ]
  },
  {
   "cell_type": "code",
   "execution_count": null,
   "metadata": {
    "collapsed": true
   },
   "outputs": [],
   "source": [
    "layer = 'input_layer'\n",
    "pop = 'parrot_neuron'\n",
    "activity = 'spikes'\n",
    "\n",
    "# layer = 'l1'\n",
    "# pop = 'l1_exc'\n",
    "# activity = 'spikes'"
   ]
  },
  {
   "cell_type": "code",
   "execution_count": null,
   "metadata": {},
   "outputs": [],
   "source": [
    "filename = layer+SEP+pop+SEP+activity+'.npy'\n",
    "filepath = join(sim_savedir, filename)\n",
    "\n",
    "try:\n",
    "    activity = load_as_numpy(join(sim_savedir, filename))\n",
    "except:\n",
    "    print('Could not load activity') \n",
    "    \n",
    "f = plot.init()\n",
    "plot.animate(f, activity, fps=5, t=0) "
   ]
  },
  {
   "cell_type": "code",
   "execution_count": null,
   "metadata": {
    "collapsed": true
   },
   "outputs": [],
   "source": []
  }
 ],
 "metadata": {
  "kernelspec": {
   "display_name": "Python 3",
   "language": "python",
   "name": "python3"
  },
  "language_info": {
   "codemirror_mode": {
    "name": "ipython",
    "version": 3
   },
   "file_extension": ".py",
   "mimetype": "text/x-python",
   "name": "python",
   "nbconvert_exporter": "python",
   "pygments_lexer": "ipython3",
   "version": "3.6.1"
  }
 },
 "nbformat": 4,
 "nbformat_minor": 2
}
